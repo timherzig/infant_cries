{
 "cells": [
  {
   "cell_type": "code",
   "execution_count": 64,
   "metadata": {},
   "outputs": [],
   "source": [
    "import math\n",
    "import librosa\n",
    "\n",
    "import numpy as np\n",
    "import pandas as pd\n",
    "\n",
    "import warnings\n",
    "warnings.filterwarnings(\"ignore\")"
   ]
  },
  {
   "cell_type": "code",
   "execution_count": 41,
   "metadata": {},
   "outputs": [],
   "source": [
    "def prepare_raw_df(df):\n",
    "    case_number = []\n",
    "    for index, row in df.iterrows():\n",
    "        case_number.append(row['audio'].split('/')[1][:3])\n",
    "    df['id'] = case_number\n",
    "\n",
    "    return df"
   ]
  },
  {
   "cell_type": "code",
   "execution_count": 55,
   "metadata": {},
   "outputs": [],
   "source": [
    "def get_number_id(df):\n",
    "    return len(df['id'].value_counts())"
   ]
  },
  {
   "cell_type": "code",
   "execution_count": 58,
   "metadata": {},
   "outputs": [],
   "source": [
    "def get_nuber_utterances(df):\n",
    "    return len(df.index)"
   ]
  },
  {
   "cell_type": "code",
   "execution_count": 61,
   "metadata": {},
   "outputs": [],
   "source": [
    "def get_ratio(df):\n",
    "    return df['label'].value_counts()"
   ]
  },
  {
   "cell_type": "code",
   "execution_count": 42,
   "metadata": {},
   "outputs": [],
   "source": [
    "def get_avg_samples(df):\n",
    "    return np.mean(df['id'].value_counts())"
   ]
  },
  {
   "cell_type": "code",
   "execution_count": 43,
   "metadata": {},
   "outputs": [],
   "source": [
    "def get_max_min_samples(df):\n",
    "    return (df['id'].value_counts()[0], df['id'].value_counts()[-1])"
   ]
  },
  {
   "cell_type": "code",
   "execution_count": 44,
   "metadata": {},
   "outputs": [],
   "source": [
    "def total_length(root, df):\n",
    "    dur = 0\n",
    "    for index, row in df.iterrows():\n",
    "        dur = dur + librosa.get_duration(librosa.load(root + row['audio'])[0])\n",
    "    return dur"
   ]
  },
  {
   "cell_type": "code",
   "execution_count": 45,
   "metadata": {},
   "outputs": [],
   "source": [
    "def avg_length(root, df):\n",
    "    dur = 0\n",
    "    for index, row in df.iterrows():\n",
    "        dur = dur + librosa.get_duration(librosa.load(root + row['audio'])[0])\n",
    "    return dur/len(df.index)"
   ]
  },
  {
   "cell_type": "code",
   "execution_count": 54,
   "metadata": {},
   "outputs": [],
   "source": [
    "def range_audio(root, df):\n",
    "    dur = []\n",
    "    for index, row in df.iterrows():\n",
    "        dur.append(librosa.get_duration(librosa.load(root + row['audio'])[0]))\n",
    "\n",
    "    print(dur)\n",
    "    dur = dur.sort()\n",
    "\n",
    "    # return dur[-1] - dur[0]"
   ]
  },
  {
   "cell_type": "code",
   "execution_count": 63,
   "metadata": {},
   "outputs": [
    {
     "name": "stdout",
     "output_type": "stream",
     "text": [
      "babycry_4-1_raw:\n",
      "Number of babies: 63\n",
      "Number of utterances: 1711\n",
      "Ratio :0    1173\n",
      "1     538\n",
      "Name: label, dtype: int64\n",
      "Number avg samples per baby: 27.158730158730158\n",
      "Max, min samples: (95, 6)\n",
      "Average length Jap: 1.478558495862114\n",
      "Average length Ger: 1.437741783206468\n"
     ]
    }
   ],
   "source": [
    "babycry_41_raw = prepare_raw_df(pd.read_csv('/home/tim/Documents/dfki/shared_projects/infant_cries/BabyCry4-1/babycry_extracted.csv'))\n",
    "print('babycry_4-1_raw:')\n",
    "print('Number of babies: ' + str(get_number_id(babycry_41_raw)))\n",
    "print('Number of utterances: ' + str(get_nuber_utterances(babycry_41_raw)))\n",
    "print('Ratio :' + str(get_ratio(babycry_41_raw)))\n",
    "print('Number avg samples per baby: ' + str(get_avg_samples(babycry_41_raw)))\n",
    "print('Max, min samples: ' +  str(get_max_min_samples(babycry_41_raw)))\n",
    "\n",
    "\n",
    "# print('Total length sec: ' + str(total_length('/home/tim/Documents/dfki/shared_projects/infant_cries/BabyCry4-1/', babycry_41_raw)))\n",
    "# print('Average length sec: ' + str(avg_length('/home/tim/Documents/dfki/shared_projects/infant_cries/BabyCry4-1/', babycry_41_raw)))\n",
    "print('Average length Jap: ' + str(avg_length('/home/tim/Documents/dfki/shared_projects/infant_cries/BabyCry4-1/', babycry_41_raw[babycry_41_raw['label'] == 0])))\n",
    "print('Average length Ger: ' + str(avg_length('/home/tim/Documents/dfki/shared_projects/infant_cries/BabyCry4-1/', babycry_41_raw[babycry_41_raw['label'] == 1])))\n",
    "# print('Range sec: ' + str(range_audio('/home/tim/Documents/dfki/shared_projects/infant_cries/BabyCry4-1/', babycry_41_raw)))\n"
   ]
  },
  {
   "cell_type": "code",
   "execution_count": 65,
   "metadata": {},
   "outputs": [
    {
     "name": "stdout",
     "output_type": "stream",
     "text": [
      "babycry_4-1_raw outliers removed:\n",
      "Number of babies: 63\n",
      "Number of utterances: 1540\n",
      "Ratio :0    1051\n",
      "1     489\n",
      "Name: label, dtype: int64\n",
      "Number avg samples per baby: 24.444444444444443\n",
      "Max, min samples: (83, 6)\n",
      "Average length Jap: 1.4774122474870048\n",
      "Average length Ger: 1.4220111384703857\n"
     ]
    }
   ],
   "source": [
    "dur = []\n",
    "for index, row in babycry_41_raw.iterrows():\n",
    "    dur.append(librosa.get_duration(librosa.load('/home/tim/Documents/dfki/shared_projects/infant_cries/BabyCry4-1/' + row['audio'])[0]))\n",
    "\n",
    "babycry_41_raw['dur'] = dur\n",
    "mean = babycry_41_raw['dur'].mean()\n",
    "\n",
    "babycry_41_raw = babycry_41_raw.sort_values(by = ['dur'], key=lambda x: abs(mean - x), ascending=True).drop(babycry_41_raw.tail(math.floor(0.1*len(babycry_41_raw.index))).index)\n",
    "\n",
    "print('babycry_4-1_raw outliers removed:')\n",
    "print('Number of babies: ' + str(get_number_id(babycry_41_raw)))\n",
    "print('Number of utterances: ' + str(get_nuber_utterances(babycry_41_raw)))\n",
    "print('Ratio :' + str(get_ratio(babycry_41_raw)))\n",
    "print('Number avg samples per baby: ' + str(get_avg_samples(babycry_41_raw)))\n",
    "print('Max, min samples: ' +  str(get_max_min_samples(babycry_41_raw)))\n",
    "\n",
    "\n",
    "# print('Total length sec: ' + str(total_length('/home/tim/Documents/dfki/shared_projects/infant_cries/BabyCry4-1/', babycry_41_raw)))\n",
    "# print('Average length sec: ' + str(avg_length('/home/tim/Documents/dfki/shared_projects/infant_cries/BabyCry4-1/', babycry_41_raw)))\n",
    "print('Average length Jap: ' + str(avg_length('/home/tim/Documents/dfki/shared_projects/infant_cries/BabyCry4-1/', babycry_41_raw[babycry_41_raw['label'] == 0])))\n",
    "print('Average length Ger: ' + str(avg_length('/home/tim/Documents/dfki/shared_projects/infant_cries/BabyCry4-1/', babycry_41_raw[babycry_41_raw['label'] == 1])))\n",
    "# print('Range sec: ' + str(range_audio('/home/tim/Documents/dfki/shared_projects/infant_cries/BabyCry4-1/', babycry_41_raw)))\n"
   ]
  },
  {
   "cell_type": "code",
   "execution_count": 69,
   "metadata": {},
   "outputs": [],
   "source": [
    "babycry_41_test = pd.read_csv('/home/tim/Documents/dfki/shared_projects/infant_cries/BabyCry4-1/test.csv')\n",
    "babycry_41_train = pd.read_csv('/home/tim/Documents/dfki/shared_projects/infant_cries/BabyCry4-1/train.csv')\n",
    "babycry_41 = pd.concat([babycry_41_test, babycry_41_train])\n",
    "\n",
    "print('babycry_4-1 outliers removed:')\n",
    "print('Number of babies: ' + str(get_number_id(babycry_41)))\n",
    "print('Number of utterances: ' + str(get_nuber_utterances(babycry_41)))\n",
    "print('Ratio :' + str(get_ratio(babycry_41)))\n",
    "print('Number avg samples per baby: ' + str(get_avg_samples(babycry_41)))\n",
    "print('Max, min samples: ' +  str(get_max_min_samples(babycry_41)))\n",
    "\n",
    "\n",
    "# print('Total length sec: ' + str(total_length('/home/tim/Documents/dfki/shared_projects/infant_cries/BabyCry4-1/', babycry_41_raw)))\n",
    "# print('Average length sec: ' + str(avg_length('/home/tim/Documents/dfki/shared_projects/infant_cries/BabyCry4-1/', babycry_41_raw)))\n",
    "print('Average length Jap: ' + str(avg_length('/home/tim/Documents/dfki/shared_projects/infant_cries/BabyCry4-1/', babycry_41[babycry_41['label'] == 0])))\n",
    "print('Average length Ger: ' + str(avg_length('/home/tim/Documents/dfki/shared_projects/infant_cries/BabyCry4-1/', babycry_41[babycry_41['label'] == 1])))\n",
    "# print('Range sec: ' + str(range_audio('/home/tim/Documents/dfki/shared_projects/infant_cries/BabyCry4-1/', babycry_41_raw)))\n"
   ]
  }
 ],
 "metadata": {
  "kernelspec": {
   "display_name": "Python 3",
   "language": "python",
   "name": "python3"
  },
  "language_info": {
   "codemirror_mode": {
    "name": "ipython",
    "version": 3
   },
   "file_extension": ".py",
   "mimetype": "text/x-python",
   "name": "python",
   "nbconvert_exporter": "python",
   "pygments_lexer": "ipython3",
   "version": "3.9.16"
  },
  "orig_nbformat": 4
 },
 "nbformat": 4,
 "nbformat_minor": 2
}
